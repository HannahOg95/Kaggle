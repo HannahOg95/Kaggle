{
 "cells": [
  {
   "cell_type": "code",
   "execution_count": 1,
   "id": "f9bbfaec",
   "metadata": {
    "_cell_guid": "b1076dfc-b9ad-4769-8c92-a6c4dae69d19",
    "_uuid": "8f2839f25d086af736a60e9eeb907d3b93b6e0e5",
    "execution": {
     "iopub.execute_input": "2024-01-12T22:38:55.519360Z",
     "iopub.status.busy": "2024-01-12T22:38:55.518549Z",
     "iopub.status.idle": "2024-01-12T22:38:56.482005Z",
     "shell.execute_reply": "2024-01-12T22:38:56.480669Z"
    },
    "papermill": {
     "duration": 0.974538,
     "end_time": "2024-01-12T22:38:56.484790",
     "exception": false,
     "start_time": "2024-01-12T22:38:55.510252",
     "status": "completed"
    },
    "tags": []
   },
   "outputs": [
    {
     "name": "stdout",
     "output_type": "stream",
     "text": [
      "/kaggle/input/titanic/train.csv\n",
      "/kaggle/input/titanic/test.csv\n",
      "/kaggle/input/titanic/gender_submission.csv\n"
     ]
    }
   ],
   "source": [
    "# This Python 3 environment comes with many helpful analytics libraries installed\n",
    "# It is defined by the kaggle/python Docker image: https://github.com/kaggle/docker-python\n",
    "# For example, here's several helpful packages to load\n",
    "\n",
    "import numpy as np # linear algebra\n",
    "import pandas as pd # data processing, CSV file I/O (e.g. pd.read_csv)\n",
    "\n",
    "# Input data files are available in the read-only \"../input/\" directory\n",
    "# For example, running this (by clicking run or pressing Shift+Enter) will list all files under the input directory\n",
    "\n",
    "import os\n",
    "for dirname, _, filenames in os.walk('/kaggle/input'):\n",
    "    for filename in filenames:\n",
    "        print(os.path.join(dirname, filename))\n",
    "\n",
    "# You can write up to 20GB to the current directory (/kaggle/working/) that gets preserved as output when you create a version using \"Save & Run All\" \n",
    "# You can also write temporary files to /kaggle/temp/, but they won't be saved outside of the current session"
   ]
  },
  {
   "cell_type": "code",
   "execution_count": 2,
   "id": "07493915",
   "metadata": {
    "execution": {
     "iopub.execute_input": "2024-01-12T22:38:56.499596Z",
     "iopub.status.busy": "2024-01-12T22:38:56.498966Z",
     "iopub.status.idle": "2024-01-12T22:38:56.547314Z",
     "shell.execute_reply": "2024-01-12T22:38:56.546069Z"
    },
    "papermill": {
     "duration": 0.058603,
     "end_time": "2024-01-12T22:38:56.549737",
     "exception": false,
     "start_time": "2024-01-12T22:38:56.491134",
     "status": "completed"
    },
    "tags": []
   },
   "outputs": [
    {
     "data": {
      "text/html": [
       "<div>\n",
       "<style scoped>\n",
       "    .dataframe tbody tr th:only-of-type {\n",
       "        vertical-align: middle;\n",
       "    }\n",
       "\n",
       "    .dataframe tbody tr th {\n",
       "        vertical-align: top;\n",
       "    }\n",
       "\n",
       "    .dataframe thead th {\n",
       "        text-align: right;\n",
       "    }\n",
       "</style>\n",
       "<table border=\"1\" class=\"dataframe\">\n",
       "  <thead>\n",
       "    <tr style=\"text-align: right;\">\n",
       "      <th></th>\n",
       "      <th>PassengerId</th>\n",
       "      <th>Survived</th>\n",
       "      <th>Pclass</th>\n",
       "      <th>Name</th>\n",
       "      <th>Sex</th>\n",
       "      <th>Age</th>\n",
       "      <th>SibSp</th>\n",
       "      <th>Parch</th>\n",
       "      <th>Ticket</th>\n",
       "      <th>Fare</th>\n",
       "      <th>Cabin</th>\n",
       "      <th>Embarked</th>\n",
       "    </tr>\n",
       "  </thead>\n",
       "  <tbody>\n",
       "    <tr>\n",
       "      <th>0</th>\n",
       "      <td>1</td>\n",
       "      <td>0</td>\n",
       "      <td>3</td>\n",
       "      <td>Braund, Mr. Owen Harris</td>\n",
       "      <td>male</td>\n",
       "      <td>22.0</td>\n",
       "      <td>1</td>\n",
       "      <td>0</td>\n",
       "      <td>A/5 21171</td>\n",
       "      <td>7.2500</td>\n",
       "      <td>NaN</td>\n",
       "      <td>S</td>\n",
       "    </tr>\n",
       "    <tr>\n",
       "      <th>1</th>\n",
       "      <td>2</td>\n",
       "      <td>1</td>\n",
       "      <td>1</td>\n",
       "      <td>Cumings, Mrs. John Bradley (Florence Briggs Th...</td>\n",
       "      <td>female</td>\n",
       "      <td>38.0</td>\n",
       "      <td>1</td>\n",
       "      <td>0</td>\n",
       "      <td>PC 17599</td>\n",
       "      <td>71.2833</td>\n",
       "      <td>C85</td>\n",
       "      <td>C</td>\n",
       "    </tr>\n",
       "    <tr>\n",
       "      <th>2</th>\n",
       "      <td>3</td>\n",
       "      <td>1</td>\n",
       "      <td>3</td>\n",
       "      <td>Heikkinen, Miss. Laina</td>\n",
       "      <td>female</td>\n",
       "      <td>26.0</td>\n",
       "      <td>0</td>\n",
       "      <td>0</td>\n",
       "      <td>STON/O2. 3101282</td>\n",
       "      <td>7.9250</td>\n",
       "      <td>NaN</td>\n",
       "      <td>S</td>\n",
       "    </tr>\n",
       "    <tr>\n",
       "      <th>3</th>\n",
       "      <td>4</td>\n",
       "      <td>1</td>\n",
       "      <td>1</td>\n",
       "      <td>Futrelle, Mrs. Jacques Heath (Lily May Peel)</td>\n",
       "      <td>female</td>\n",
       "      <td>35.0</td>\n",
       "      <td>1</td>\n",
       "      <td>0</td>\n",
       "      <td>113803</td>\n",
       "      <td>53.1000</td>\n",
       "      <td>C123</td>\n",
       "      <td>S</td>\n",
       "    </tr>\n",
       "    <tr>\n",
       "      <th>4</th>\n",
       "      <td>5</td>\n",
       "      <td>0</td>\n",
       "      <td>3</td>\n",
       "      <td>Allen, Mr. William Henry</td>\n",
       "      <td>male</td>\n",
       "      <td>35.0</td>\n",
       "      <td>0</td>\n",
       "      <td>0</td>\n",
       "      <td>373450</td>\n",
       "      <td>8.0500</td>\n",
       "      <td>NaN</td>\n",
       "      <td>S</td>\n",
       "    </tr>\n",
       "  </tbody>\n",
       "</table>\n",
       "</div>"
      ],
      "text/plain": [
       "   PassengerId  Survived  Pclass  \\\n",
       "0            1         0       3   \n",
       "1            2         1       1   \n",
       "2            3         1       3   \n",
       "3            4         1       1   \n",
       "4            5         0       3   \n",
       "\n",
       "                                                Name     Sex   Age  SibSp  \\\n",
       "0                            Braund, Mr. Owen Harris    male  22.0      1   \n",
       "1  Cumings, Mrs. John Bradley (Florence Briggs Th...  female  38.0      1   \n",
       "2                             Heikkinen, Miss. Laina  female  26.0      0   \n",
       "3       Futrelle, Mrs. Jacques Heath (Lily May Peel)  female  35.0      1   \n",
       "4                           Allen, Mr. William Henry    male  35.0      0   \n",
       "\n",
       "   Parch            Ticket     Fare Cabin Embarked  \n",
       "0      0         A/5 21171   7.2500   NaN        S  \n",
       "1      0          PC 17599  71.2833   C85        C  \n",
       "2      0  STON/O2. 3101282   7.9250   NaN        S  \n",
       "3      0            113803  53.1000  C123        S  \n",
       "4      0            373450   8.0500   NaN        S  "
      ]
     },
     "execution_count": 2,
     "metadata": {},
     "output_type": "execute_result"
    }
   ],
   "source": [
    "train_data = pd.read_csv(\"/kaggle/input/titanic/train.csv\")\n",
    "train_data.head()"
   ]
  },
  {
   "cell_type": "code",
   "execution_count": 3,
   "id": "e3e65d26",
   "metadata": {
    "execution": {
     "iopub.execute_input": "2024-01-12T22:38:56.564458Z",
     "iopub.status.busy": "2024-01-12T22:38:56.564070Z",
     "iopub.status.idle": "2024-01-12T22:38:56.571086Z",
     "shell.execute_reply": "2024-01-12T22:38:56.569968Z"
    },
    "papermill": {
     "duration": 0.017334,
     "end_time": "2024-01-12T22:38:56.573586",
     "exception": false,
     "start_time": "2024-01-12T22:38:56.556252",
     "status": "completed"
    },
    "tags": []
   },
   "outputs": [
    {
     "data": {
      "text/plain": [
       "(891, 12)"
      ]
     },
     "execution_count": 3,
     "metadata": {},
     "output_type": "execute_result"
    }
   ],
   "source": [
    "train_data.shape"
   ]
  },
  {
   "cell_type": "code",
   "execution_count": 4,
   "id": "2c3d1d88",
   "metadata": {
    "execution": {
     "iopub.execute_input": "2024-01-12T22:38:56.588555Z",
     "iopub.status.busy": "2024-01-12T22:38:56.588156Z",
     "iopub.status.idle": "2024-01-12T22:38:56.600637Z",
     "shell.execute_reply": "2024-01-12T22:38:56.599390Z"
    },
    "papermill": {
     "duration": 0.023271,
     "end_time": "2024-01-12T22:38:56.603404",
     "exception": false,
     "start_time": "2024-01-12T22:38:56.580133",
     "status": "completed"
    },
    "tags": []
   },
   "outputs": [],
   "source": [
    "test_data = pd.read_csv(\"/kaggle/input/titanic/test.csv\")\n",
    "X_test = test_data"
   ]
  },
  {
   "cell_type": "code",
   "execution_count": 5,
   "id": "57b6b877",
   "metadata": {
    "execution": {
     "iopub.execute_input": "2024-01-12T22:38:56.618585Z",
     "iopub.status.busy": "2024-01-12T22:38:56.618178Z",
     "iopub.status.idle": "2024-01-12T22:38:56.630900Z",
     "shell.execute_reply": "2024-01-12T22:38:56.629763Z"
    },
    "papermill": {
     "duration": 0.023797,
     "end_time": "2024-01-12T22:38:56.633706",
     "exception": false,
     "start_time": "2024-01-12T22:38:56.609909",
     "status": "completed"
    },
    "tags": []
   },
   "outputs": [],
   "source": [
    "y = train_data.Survived\n",
    "X = train_data.drop(['Survived'], axis = 1)"
   ]
  },
  {
   "cell_type": "code",
   "execution_count": 6,
   "id": "f795d1ab",
   "metadata": {
    "execution": {
     "iopub.execute_input": "2024-01-12T22:38:56.649007Z",
     "iopub.status.busy": "2024-01-12T22:38:56.648568Z",
     "iopub.status.idle": "2024-01-12T22:38:56.659535Z",
     "shell.execute_reply": "2024-01-12T22:38:56.658390Z"
    },
    "papermill": {
     "duration": 0.021373,
     "end_time": "2024-01-12T22:38:56.662013",
     "exception": false,
     "start_time": "2024-01-12T22:38:56.640640",
     "status": "completed"
    },
    "tags": []
   },
   "outputs": [],
   "source": [
    "features = ['Pclass', 'Sex', 'Age', 'SibSp', 'Parch', 'Embarked']\n",
    "\n",
    "X = X[features]\n",
    "X_test = X_test[features]"
   ]
  },
  {
   "cell_type": "code",
   "execution_count": 7,
   "id": "c27be609",
   "metadata": {
    "execution": {
     "iopub.execute_input": "2024-01-12T22:38:56.677657Z",
     "iopub.status.busy": "2024-01-12T22:38:56.676438Z",
     "iopub.status.idle": "2024-01-12T22:38:56.685604Z",
     "shell.execute_reply": "2024-01-12T22:38:56.684332Z"
    },
    "papermill": {
     "duration": 0.019513,
     "end_time": "2024-01-12T22:38:56.687957",
     "exception": false,
     "start_time": "2024-01-12T22:38:56.668444",
     "status": "completed"
    },
    "tags": []
   },
   "outputs": [
    {
     "name": "stdout",
     "output_type": "stream",
     "text": [
      "['Age', 'Embarked']\n"
     ]
    }
   ],
   "source": [
    "# Get names of columns with missing values\n",
    "cols_with_missing = [col for col in X.columns\n",
    "                     if X[col].isnull().any()]\n",
    "print(cols_with_missing)"
   ]
  },
  {
   "cell_type": "code",
   "execution_count": 8,
   "id": "4065a930",
   "metadata": {
    "execution": {
     "iopub.execute_input": "2024-01-12T22:38:56.702523Z",
     "iopub.status.busy": "2024-01-12T22:38:56.702131Z",
     "iopub.status.idle": "2024-01-12T22:38:58.340208Z",
     "shell.execute_reply": "2024-01-12T22:38:58.338889Z"
    },
    "papermill": {
     "duration": 1.64872,
     "end_time": "2024-01-12T22:38:58.343132",
     "exception": false,
     "start_time": "2024-01-12T22:38:56.694412",
     "status": "completed"
    },
    "tags": []
   },
   "outputs": [
    {
     "name": "stderr",
     "output_type": "stream",
     "text": [
      "/tmp/ipykernel_18/3207151343.py:7: SettingWithCopyWarning: \n",
      "A value is trying to be set on a copy of a slice from a DataFrame.\n",
      "Try using .loc[row_indexer,col_indexer] = value instead\n",
      "\n",
      "See the caveats in the documentation: https://pandas.pydata.org/pandas-docs/stable/user_guide/indexing.html#returning-a-view-versus-a-copy\n",
      "  X_test[numeric_columns] = pd.DataFrame(num_Imputer.fit_transform(X_test[numeric_columns]), columns=numeric_columns)\n"
     ]
    }
   ],
   "source": [
    "from sklearn.impute import SimpleImputer\n",
    "\n",
    "numeric_columns = X.select_dtypes(include='number').columns\n",
    "num_Imputer = SimpleImputer(strategy='median')\n",
    "\n",
    "X[numeric_columns] = pd.DataFrame(num_Imputer.fit_transform(X[numeric_columns]), columns=numeric_columns)\n",
    "X_test[numeric_columns] = pd.DataFrame(num_Imputer.fit_transform(X_test[numeric_columns]), columns=numeric_columns)"
   ]
  },
  {
   "cell_type": "code",
   "execution_count": 9,
   "id": "5f2af57d",
   "metadata": {
    "execution": {
     "iopub.execute_input": "2024-01-12T22:38:58.358354Z",
     "iopub.status.busy": "2024-01-12T22:38:58.357955Z",
     "iopub.status.idle": "2024-01-12T22:38:58.376285Z",
     "shell.execute_reply": "2024-01-12T22:38:58.375431Z"
    },
    "papermill": {
     "duration": 0.02868,
     "end_time": "2024-01-12T22:38:58.378569",
     "exception": false,
     "start_time": "2024-01-12T22:38:58.349889",
     "status": "completed"
    },
    "tags": []
   },
   "outputs": [
    {
     "name": "stderr",
     "output_type": "stream",
     "text": [
      "/tmp/ipykernel_18/3306425986.py:5: SettingWithCopyWarning: \n",
      "A value is trying to be set on a copy of a slice from a DataFrame.\n",
      "Try using .loc[row_indexer,col_indexer] = value instead\n",
      "\n",
      "See the caveats in the documentation: https://pandas.pydata.org/pandas-docs/stable/user_guide/indexing.html#returning-a-view-versus-a-copy\n",
      "  X_test[cat_columns] = pd.DataFrame(cat_Imputer.fit_transform(X_test[cat_columns]), columns=cat_columns)\n"
     ]
    }
   ],
   "source": [
    "cat_columns = X.select_dtypes(include='object').columns\n",
    "cat_Imputer = SimpleImputer(strategy='most_frequent')\n",
    "\n",
    "X[cat_columns] = pd.DataFrame(cat_Imputer.fit_transform(X[cat_columns]), columns=cat_columns)\n",
    "X_test[cat_columns] = pd.DataFrame(cat_Imputer.fit_transform(X_test[cat_columns]), columns=cat_columns)"
   ]
  },
  {
   "cell_type": "code",
   "execution_count": 10,
   "id": "4607881f",
   "metadata": {
    "execution": {
     "iopub.execute_input": "2024-01-12T22:38:58.393771Z",
     "iopub.status.busy": "2024-01-12T22:38:58.393386Z",
     "iopub.status.idle": "2024-01-12T22:38:58.405552Z",
     "shell.execute_reply": "2024-01-12T22:38:58.404340Z"
    },
    "papermill": {
     "duration": 0.023157,
     "end_time": "2024-01-12T22:38:58.408598",
     "exception": false,
     "start_time": "2024-01-12T22:38:58.385441",
     "status": "completed"
    },
    "tags": []
   },
   "outputs": [
    {
     "name": "stderr",
     "output_type": "stream",
     "text": [
      "/tmp/ipykernel_18/3104000814.py:6: SettingWithCopyWarning: \n",
      "A value is trying to be set on a copy of a slice from a DataFrame.\n",
      "Try using .loc[row_indexer,col_indexer] = value instead\n",
      "\n",
      "See the caveats in the documentation: https://pandas.pydata.org/pandas-docs/stable/user_guide/indexing.html#returning-a-view-versus-a-copy\n",
      "  X_test[cat_columns] = ordinal_encoder.transform(X_test[cat_columns])\n"
     ]
    }
   ],
   "source": [
    "from sklearn.preprocessing import OrdinalEncoder\n",
    "\n",
    "ordinal_encoder = OrdinalEncoder()\n",
    "\n",
    "X[cat_columns] = ordinal_encoder.fit_transform(X[cat_columns])\n",
    "X_test[cat_columns] = ordinal_encoder.transform(X_test[cat_columns])"
   ]
  },
  {
   "cell_type": "code",
   "execution_count": 11,
   "id": "d982753c",
   "metadata": {
    "execution": {
     "iopub.execute_input": "2024-01-12T22:38:58.424908Z",
     "iopub.status.busy": "2024-01-12T22:38:58.424129Z",
     "iopub.status.idle": "2024-01-12T22:38:58.531951Z",
     "shell.execute_reply": "2024-01-12T22:38:58.530753Z"
    },
    "papermill": {
     "duration": 0.118986,
     "end_time": "2024-01-12T22:38:58.534782",
     "exception": false,
     "start_time": "2024-01-12T22:38:58.415796",
     "status": "completed"
    },
    "tags": []
   },
   "outputs": [],
   "source": [
    "from sklearn.ensemble import RandomForestClassifier\n",
    "\n",
    "model = RandomForestClassifier(max_depth=5, max_features=0.5, max_samples=0.8, n_estimators=125)"
   ]
  },
  {
   "cell_type": "code",
   "execution_count": 12,
   "id": "da00db7b",
   "metadata": {
    "execution": {
     "iopub.execute_input": "2024-01-12T22:38:58.550310Z",
     "iopub.status.busy": "2024-01-12T22:38:58.549924Z",
     "iopub.status.idle": "2024-01-12T22:39:20.170613Z",
     "shell.execute_reply": "2024-01-12T22:39:20.168766Z"
    },
    "papermill": {
     "duration": 21.631361,
     "end_time": "2024-01-12T22:39:20.173168",
     "exception": false,
     "start_time": "2024-01-12T22:38:58.541807",
     "status": "completed"
    },
    "tags": []
   },
   "outputs": [
    {
     "name": "stdout",
     "output_type": "stream",
     "text": [
      "RandomForestClassifier(max_depth=5, max_features=0.8, max_samples=0.5,\n",
      "                       n_estimators=110)\n"
     ]
    }
   ],
   "source": [
    "from sklearn.model_selection import RandomizedSearchCV as RSCV\n",
    "\n",
    "param_grid = {'n_estimators':np.arange(50,200,15),\n",
    "              'max_features':np.arange(0.1, 1, 0.1),\n",
    "              'max_depth': [3, 5, 7, 9],\n",
    "              'max_samples': [0.3, 0.5, 0.8]}\n",
    "\n",
    "model = RSCV(RandomForestClassifier(), param_grid, n_iter = 15).fit(X, y)\n",
    "model = model.best_estimator_\n",
    "\n",
    "print(model)"
   ]
  },
  {
   "cell_type": "code",
   "execution_count": 13,
   "id": "ed9ebf93",
   "metadata": {
    "execution": {
     "iopub.execute_input": "2024-01-12T22:39:20.189942Z",
     "iopub.status.busy": "2024-01-12T22:39:20.188769Z",
     "iopub.status.idle": "2024-01-12T22:39:20.462364Z",
     "shell.execute_reply": "2024-01-12T22:39:20.461200Z"
    },
    "papermill": {
     "duration": 0.284268,
     "end_time": "2024-01-12T22:39:20.464831",
     "exception": false,
     "start_time": "2024-01-12T22:39:20.180563",
     "status": "completed"
    },
    "tags": []
   },
   "outputs": [
    {
     "data": {
      "text/plain": [
       "Sex         0.505442\n",
       "Pclass      0.187003\n",
       "Age         0.174616\n",
       "SibSp       0.060596\n",
       "Embarked    0.039290\n",
       "Parch       0.033053\n",
       "dtype: float64"
      ]
     },
     "execution_count": 13,
     "metadata": {},
     "output_type": "execute_result"
    }
   ],
   "source": [
    "from sklearn.metrics import mean_absolute_error\n",
    "\n",
    "model.fit(X, y)\n",
    "\n",
    "# view the feature scores\n",
    "\n",
    "feature_scores = pd.Series(model.feature_importances_, index=X.columns).sort_values(ascending=False)\n",
    "\n",
    "feature_scores"
   ]
  },
  {
   "cell_type": "code",
   "execution_count": 14,
   "id": "4a7d980d",
   "metadata": {
    "execution": {
     "iopub.execute_input": "2024-01-12T22:39:20.481430Z",
     "iopub.status.busy": "2024-01-12T22:39:20.480372Z",
     "iopub.status.idle": "2024-01-12T22:39:20.499554Z",
     "shell.execute_reply": "2024-01-12T22:39:20.498281Z"
    },
    "papermill": {
     "duration": 0.030565,
     "end_time": "2024-01-12T22:39:20.502505",
     "exception": false,
     "start_time": "2024-01-12T22:39:20.471940",
     "status": "completed"
    },
    "tags": []
   },
   "outputs": [],
   "source": [
    "preds = model.predict(X_test)"
   ]
  },
  {
   "cell_type": "code",
   "execution_count": 15,
   "id": "dc6d6df9",
   "metadata": {
    "execution": {
     "iopub.execute_input": "2024-01-12T22:39:20.518673Z",
     "iopub.status.busy": "2024-01-12T22:39:20.518239Z",
     "iopub.status.idle": "2024-01-12T22:39:20.528774Z",
     "shell.execute_reply": "2024-01-12T22:39:20.527668Z"
    },
    "papermill": {
     "duration": 0.021795,
     "end_time": "2024-01-12T22:39:20.531447",
     "exception": false,
     "start_time": "2024-01-12T22:39:20.509652",
     "status": "completed"
    },
    "tags": []
   },
   "outputs": [],
   "source": [
    "output = pd.DataFrame({'PassengerId': test_data.PassengerId, 'Survived': preds})\n",
    "output.to_csv('submission.csv', index=False)"
   ]
  }
 ],
 "metadata": {
  "kaggle": {
   "accelerator": "none",
   "dataSources": [
    {
     "databundleVersionId": 26502,
     "sourceId": 3136,
     "sourceType": "competition"
    }
   ],
   "dockerImageVersionId": 30626,
   "isGpuEnabled": false,
   "isInternetEnabled": false,
   "language": "python",
   "sourceType": "notebook"
  },
  "kernelspec": {
   "display_name": "Python 3",
   "language": "python",
   "name": "python3"
  },
  "language_info": {
   "codemirror_mode": {
    "name": "ipython",
    "version": 3
   },
   "file_extension": ".py",
   "mimetype": "text/x-python",
   "name": "python",
   "nbconvert_exporter": "python",
   "pygments_lexer": "ipython3",
   "version": "3.10.12"
  },
  "papermill": {
   "default_parameters": {},
   "duration": 29.415505,
   "end_time": "2024-01-12T22:39:21.159591",
   "environment_variables": {},
   "exception": null,
   "input_path": "__notebook__.ipynb",
   "output_path": "__notebook__.ipynb",
   "parameters": {},
   "start_time": "2024-01-12T22:38:51.744086",
   "version": "2.4.0"
  }
 },
 "nbformat": 4,
 "nbformat_minor": 5
}
